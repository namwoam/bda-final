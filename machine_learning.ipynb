{
 "cells": [
  {
   "cell_type": "code",
   "execution_count": null,
   "metadata": {},
   "outputs": [],
   "source": [
    "import pandas as pd\n",
    "import matplotlib.pyplot as plt"
   ]
  },
  {
   "cell_type": "code",
   "execution_count": 180,
   "metadata": {},
   "outputs": [
    {
     "data": {
      "text/html": [
       "<div>\n",
       "<style scoped>\n",
       "    .dataframe tbody tr th:only-of-type {\n",
       "        vertical-align: middle;\n",
       "    }\n",
       "\n",
       "    .dataframe tbody tr th {\n",
       "        vertical-align: top;\n",
       "    }\n",
       "\n",
       "    .dataframe thead th {\n",
       "        text-align: right;\n",
       "    }\n",
       "</style>\n",
       "<table border=\"1\" class=\"dataframe\">\n",
       "  <thead>\n",
       "    <tr style=\"text-align: right;\">\n",
       "      <th></th>\n",
       "      <th>customer_id</th>\n",
       "      <th>actions</th>\n",
       "      <th>start_time</th>\n",
       "      <th>end_time</th>\n",
       "      <th>time_to_checkout</th>\n",
       "      <th>trade_order</th>\n",
       "      <th>hesitate</th>\n",
       "      <th>time_to_checkout_hours</th>\n",
       "    </tr>\n",
       "  </thead>\n",
       "  <tbody>\n",
       "    <tr>\n",
       "      <th>0</th>\n",
       "      <td>++2zeaFx0ku6BVmoPrul6jYI0HWXWIq/ZZvT+tNNtKX66B...</td>\n",
       "      <td>['viewmainpage', 'viewmainpage', 'selectconten...</td>\n",
       "      <td>2023-10-10 14:26:07.546</td>\n",
       "      <td>2023-10-11 09:45:41.725</td>\n",
       "      <td>0 days 19:19:34.179000</td>\n",
       "      <td>ybo/HZA5dh8Z5lNbvB3Bvw==</td>\n",
       "      <td>0</td>\n",
       "      <td>19.326161</td>\n",
       "    </tr>\n",
       "    <tr>\n",
       "      <th>5</th>\n",
       "      <td>++3PkM5EUwks6JiI4er8ae7xOjBmP7hcRsBkbdFtodN+YI...</td>\n",
       "      <td>['viewmainpage', 'viewmainpage', 'selectconten...</td>\n",
       "      <td>2023-10-12 22:13:58.001</td>\n",
       "      <td>2023-10-12 22:22:52.295</td>\n",
       "      <td>0 days 00:08:54.294000</td>\n",
       "      <td>+/QxHhxQwQZ5bsd+9xMIhQ==</td>\n",
       "      <td>0</td>\n",
       "      <td>0.148415</td>\n",
       "    </tr>\n",
       "    <tr>\n",
       "      <th>10</th>\n",
       "      <td>++QZAN6YFZwgP6lpxxy5F/5lgowHqpu1rBpaR7NlZtROjY...</td>\n",
       "      <td>['viewmainpage', 'selectcontent', 'viewmainpag...</td>\n",
       "      <td>2023-10-12 15:26:10.577</td>\n",
       "      <td>2023-10-13 21:57:57.278</td>\n",
       "      <td>1 days 06:31:46.701000</td>\n",
       "      <td>KDcZFvHQdaIrAv/zSdMAUw==</td>\n",
       "      <td>0</td>\n",
       "      <td>30.529639</td>\n",
       "    </tr>\n",
       "    <tr>\n",
       "      <th>14</th>\n",
       "      <td>++c39Ct12j1d9kxneNe/hqfZu0Sgv0Q1sMOuk/S7YMefYb...</td>\n",
       "      <td>['viewmainpage', 'selectcontent', 'viewcustomp...</td>\n",
       "      <td>2023-10-11 00:59:47.652</td>\n",
       "      <td>2023-10-11 01:19:02.542</td>\n",
       "      <td>0 days 00:19:14.890000</td>\n",
       "      <td>nuASYFpXipf1DwjEKoOTBQ==</td>\n",
       "      <td>0</td>\n",
       "      <td>0.320803</td>\n",
       "    </tr>\n",
       "    <tr>\n",
       "      <th>17</th>\n",
       "      <td>++c39Ct12j1d9kxneNe/hqfZu0Sgv0Q1sMOuk/S7YMefYb...</td>\n",
       "      <td>['viewmainpage', 'selectcontent', 'viewmainpag...</td>\n",
       "      <td>2023-10-11 01:19:02.542</td>\n",
       "      <td>2023-10-14 20:34:24.110</td>\n",
       "      <td>3 days 19:15:21.568000</td>\n",
       "      <td>hakVAD9yC0irQY94TY/6cA==</td>\n",
       "      <td>0</td>\n",
       "      <td>91.255991</td>\n",
       "    </tr>\n",
       "  </tbody>\n",
       "</table>\n",
       "</div>"
      ],
      "text/plain": [
       "                                          customer_id  \\\n",
       "0   ++2zeaFx0ku6BVmoPrul6jYI0HWXWIq/ZZvT+tNNtKX66B...   \n",
       "5   ++3PkM5EUwks6JiI4er8ae7xOjBmP7hcRsBkbdFtodN+YI...   \n",
       "10  ++QZAN6YFZwgP6lpxxy5F/5lgowHqpu1rBpaR7NlZtROjY...   \n",
       "14  ++c39Ct12j1d9kxneNe/hqfZu0Sgv0Q1sMOuk/S7YMefYb...   \n",
       "17  ++c39Ct12j1d9kxneNe/hqfZu0Sgv0Q1sMOuk/S7YMefYb...   \n",
       "\n",
       "                                              actions  \\\n",
       "0   ['viewmainpage', 'viewmainpage', 'selectconten...   \n",
       "5   ['viewmainpage', 'viewmainpage', 'selectconten...   \n",
       "10  ['viewmainpage', 'selectcontent', 'viewmainpag...   \n",
       "14  ['viewmainpage', 'selectcontent', 'viewcustomp...   \n",
       "17  ['viewmainpage', 'selectcontent', 'viewmainpag...   \n",
       "\n",
       "                 start_time                 end_time       time_to_checkout  \\\n",
       "0   2023-10-10 14:26:07.546  2023-10-11 09:45:41.725 0 days 19:19:34.179000   \n",
       "5   2023-10-12 22:13:58.001  2023-10-12 22:22:52.295 0 days 00:08:54.294000   \n",
       "10  2023-10-12 15:26:10.577  2023-10-13 21:57:57.278 1 days 06:31:46.701000   \n",
       "14  2023-10-11 00:59:47.652  2023-10-11 01:19:02.542 0 days 00:19:14.890000   \n",
       "17  2023-10-11 01:19:02.542  2023-10-14 20:34:24.110 3 days 19:15:21.568000   \n",
       "\n",
       "                 trade_order  hesitate  time_to_checkout_hours  \n",
       "0   ybo/HZA5dh8Z5lNbvB3Bvw==         0               19.326161  \n",
       "5   +/QxHhxQwQZ5bsd+9xMIhQ==         0                0.148415  \n",
       "10  KDcZFvHQdaIrAv/zSdMAUw==         0               30.529639  \n",
       "14  nuASYFpXipf1DwjEKoOTBQ==         0                0.320803  \n",
       "17  hakVAD9yC0irQY94TY/6cA==         0               91.255991  "
      ]
     },
     "execution_count": 180,
     "metadata": {},
     "output_type": "execute_result"
    }
   ],
   "source": [
    "import datetime\n",
    "import numpy as np\n",
    "df = pd.read_csv(\"./dataset.csv\", index_col=0)\n",
    "df.head()\n",
    "df[\"time_to_checkout\"] = df[\"time_to_checkout\"].map(\n",
    "    lambda x: pd.to_timedelta(x))\n",
    "df[\"time_to_checkout_hours\"] = df[\"time_to_checkout\"].map(\n",
    "    lambda x: x/np.timedelta64(1, 'h'))\n",
    "df.head()"
   ]
  },
  {
   "cell_type": "code",
   "execution_count": 239,
   "metadata": {},
   "outputs": [
    {
     "data": {
      "text/plain": [
       "<matplotlib.legend.Legend at 0x7e733aee7d60>"
      ]
     },
     "execution_count": 239,
     "metadata": {},
     "output_type": "execute_result"
    },
    {
     "data": {
      "image/png": "[encoded data removed]",
      "text/plain": [
       "<Figure size 640x480 with 1 Axes>"
      ]
     },
     "metadata": {},
     "output_type": "display_data"
    }
   ],
   "source": [
    "df.hist(column=\"time_to_checkout_hours\", bins=100, log=True)\n",
    "plt.xlabel(\"hour(s)\")\n",
    "plt.title(\"Checkout time histogram in logarithmic scale\")\n",
    "plt.axvline(x=df[\"time_to_checkout_hours\"].mean(),label=\"mean\" , color=\"orange\")\n",
    "plt.axvline(x=df[\"time_to_checkout_hours\"].mean()+df[\"time_to_checkout_hours\"].std(),label=\"hesitate threshold\" , color=\"red\")\n",
    "plt.axvline(x=df[\"time_to_checkout_hours\"].quantile(0.1), label=\"top 10%\", color=\"green\")\n",
    "plt.legend()"
   ]
  },
  {
   "cell_type": "code",
   "execution_count": 252,
   "metadata": {},
   "outputs": [
    {
     "name": "stdout",
     "output_type": "stream",
     "text": [
      "Action count: 17\n"
     ]
    }
   ],
   "source": [
    "actions = [\"register\", \"viewmainpage\", \"viewcategory\", \"viewactivity\", \"viewcustompage\", \"viewalbumdetail\", \"viewvideodetail\", \"viewarticledetail\",\n",
    "           \"viewecoupondetail\", \"viewpromotiondetail\", \"viewcoupondetail\", \"viewproduct\", \"search\", \"add\", \"checkout\", \"purchase\", \"selectcontent\"]\n",
    "actions = {k: v for v, k in enumerate(actions)}\n",
    "n_actions = len(actions)\n",
    "print(\"Action count:\", n_actions)"
   ]
  },
  {
   "cell_type": "markdown",
   "metadata": {},
   "source": [
    "# Helper functions\n",
    "convert actions into torch tensors for training the deep learning model."
   ]
  },
  {
   "cell_type": "code",
   "execution_count": 257,
   "metadata": {},
   "outputs": [],
   "source": [
    "import torch\n",
    "\n",
    "\n",
    "def action_to_index(action):\n",
    "    return actions[action]\n",
    "\n",
    "\n",
    "def sequence_to_tensor(sequence):\n",
    "    tensor = torch.zeros(len(sequence), 1, n_actions)\n",
    "    for index, action in enumerate(sequence):\n",
    "        tensor[index][0][action_to_index(action)] = 1\n",
    "    return tensor\n",
    "\n",
    "\n",
    "def label_to_tensor(label: int):\n",
    "    tensor = torch.nn.functional.one_hot(\n",
    "        torch.tensor(label), 2)  # binary classification\n",
    "    return tensor"
   ]
  },
  {
   "cell_type": "code",
   "execution_count": 258,
   "metadata": {},
   "outputs": [],
   "source": [
    "import torch.nn as nn\n",
    "import torch.nn.functional as F\n",
    "\n",
    "\n",
    "class LSTMClassifier(nn.Module):\n",
    "    def __init__(self, input_size, hidden_size, num_layers, output_size):\n",
    "        super(LSTMClassifier, self).__init__()\n",
    "        self.hidden_size = hidden_size\n",
    "        self.num_layers = num_layers\n",
    "        self.lstm = nn.LSTM(input_size, hidden_size, num_layers, batch_first=True)\n",
    "        self.fc = nn.Linear(hidden_size, output_size)\n",
    "\n",
    "    def forward(self, x):\n",
    "        h0 = torch.zeros(self.num_layers, x.size(0), self.hidden_size).to(x.device)\n",
    "        c0 = torch.zeros(self.num_layers, x.size(0), self.hidden_size).to(x.device)\n",
    "        out, _ = self.lstm(x, (h0, c0))\n",
    "        out = self.fc(out[:, -1, :])\n",
    "        return out"
   ]
  },
  {
   "cell_type": "markdown",
   "metadata": {},
   "source": [
    "# Prepare training and validation dataset\n",
    "\n",
    "To balance the number of samples across two classes, We randomly choose around 5k samples from each classes for taining and 100 samples for testing."
   ]
  },
  {
   "cell_type": "code",
   "execution_count": 259,
   "metadata": {},
   "outputs": [
    {
     "name": "stdout",
     "output_type": "stream",
     "text": [
      "normal: 30767 hesitate: 5702\n"
     ]
    },
    {
     "data": {
      "image/png": "[encoded data removed]",
      "text/plain": [
       "<Figure size 640x480 with 1 Axes>"
      ]
     },
     "metadata": {},
     "output_type": "display_data"
    },
    {
     "data": {
      "image/png": "[encoded data removed]",
      "text/plain": [
       "<Figure size 640x480 with 1 Axes>"
      ]
     },
     "metadata": {},
     "output_type": "display_data"
    }
   ],
   "source": [
    "import random\n",
    "import ast\n",
    "random.seed(42)\n",
    "\n",
    "df[\"actions_length\"] = df[\"actions\"].apply(lambda x: len(ast.literal_eval(x)))\n",
    "\n",
    "normal_df = df[df[\"hesitate\"] == 0]\n",
    "hesitate_df = df[df[\"hesitate\"] == 1]\n",
    "\n",
    "print(\"normal:\", len(normal_df.index), \"hesitate:\", len(hesitate_df.index))\n",
    "\n",
    "\n",
    "normal_df.hist(column=[\"actions_length\"],  bins=100, log=True)\n",
    "plt.title(\"normal\")\n",
    "hesitate_df.hist(column=[\"actions_length\"], bins=100, log=False)\n",
    "plt.title(\"hesitate\")\n",
    "\n",
    "train_df = pd.concat([normal_df[:5000], hesitate_df[:5000]])\n",
    "train_df = train_df.sample(frac=1, random_state=42).reset_index(drop=True)\n",
    "\n",
    "test_df = pd.concat([normal_df[5000:5100], hesitate_df[5000:5100]])"
   ]
  },
  {
   "cell_type": "markdown",
   "metadata": {},
   "source": [
    "## Prepare & Train Deep Learning Model\n",
    "We use LSTM with hidden_size = 64 and num_layers = 4\n",
    "trained on single month data with epoch = 10\n",
    "\n",
    "LSTM is useful on sequential data."
   ]
  },
  {
   "cell_type": "code",
   "execution_count": 276,
   "metadata": {},
   "outputs": [
    {
     "name": "stderr",
     "output_type": "stream",
     "text": [
      "Training on epoch 1:   0%|          | 17/10000 [00:00<01:01, 163.35it/s]"
     ]
    },
    {
     "name": "stderr",
     "output_type": "stream",
     "text": [
      "Training on epoch 1: 100%|██████████| 10000/10000 [00:55<00:00, 181.46it/s]\n"
     ]
    },
    {
     "name": "stdout",
     "output_type": "stream",
     "text": [
      "Epoch [1/10], Loss: 0.6432794332504272\n"
     ]
    },
    {
     "name": "stderr",
     "output_type": "stream",
     "text": [
      "Evaluating model performace: 100%|██████████| 200/200 [00:00<00:00, 345.66it/s]\n"
     ]
    },
    {
     "name": "stdout",
     "output_type": "stream",
     "text": [
      "Accuracy:0.51\n"
     ]
    },
    {
     "name": "stderr",
     "output_type": "stream",
     "text": [
      "Training on epoch 2: 100%|██████████| 10000/10000 [00:56<00:00, 178.30it/s]\n"
     ]
    },
    {
     "name": "stdout",
     "output_type": "stream",
     "text": [
      "Epoch [2/10], Loss: 0.5842759609222412\n"
     ]
    },
    {
     "name": "stderr",
     "output_type": "stream",
     "text": [
      "Evaluating model performace: 100%|██████████| 200/200 [00:00<00:00, 430.21it/s]\n"
     ]
    },
    {
     "name": "stdout",
     "output_type": "stream",
     "text": [
      "Accuracy:0.51\n"
     ]
    },
    {
     "name": "stderr",
     "output_type": "stream",
     "text": [
      "Training on epoch 3: 100%|██████████| 10000/10000 [00:56<00:00, 175.73it/s]\n"
     ]
    },
    {
     "name": "stdout",
     "output_type": "stream",
     "text": [
      "Epoch [3/10], Loss: 0.4717289209365845\n"
     ]
    },
    {
     "name": "stderr",
     "output_type": "stream",
     "text": [
      "Evaluating model performace: 100%|██████████| 200/200 [00:00<00:00, 518.94it/s]\n"
     ]
    },
    {
     "name": "stdout",
     "output_type": "stream",
     "text": [
      "Accuracy:0.72\n"
     ]
    },
    {
     "name": "stderr",
     "output_type": "stream",
     "text": [
      "Training on epoch 4: 100%|██████████| 10000/10000 [00:54<00:00, 184.30it/s]\n"
     ]
    },
    {
     "name": "stdout",
     "output_type": "stream",
     "text": [
      "Epoch [4/10], Loss: 0.23734882473945618\n"
     ]
    },
    {
     "name": "stderr",
     "output_type": "stream",
     "text": [
      "Evaluating model performace: 100%|██████████| 200/200 [00:00<00:00, 370.53it/s]\n"
     ]
    },
    {
     "name": "stdout",
     "output_type": "stream",
     "text": [
      "Accuracy:0.71\n"
     ]
    },
    {
     "name": "stderr",
     "output_type": "stream",
     "text": [
      "Training on epoch 5: 100%|██████████| 10000/10000 [00:53<00:00, 186.44it/s]\n"
     ]
    },
    {
     "name": "stdout",
     "output_type": "stream",
     "text": [
      "Epoch [5/10], Loss: 0.14765016734600067\n"
     ]
    },
    {
     "name": "stderr",
     "output_type": "stream",
     "text": [
      "Evaluating model performace: 100%|██████████| 200/200 [00:00<00:00, 495.03it/s]\n"
     ]
    },
    {
     "name": "stdout",
     "output_type": "stream",
     "text": [
      "Accuracy:0.77\n"
     ]
    },
    {
     "name": "stderr",
     "output_type": "stream",
     "text": [
      "Training on epoch 6: 100%|██████████| 10000/10000 [00:52<00:00, 190.22it/s]\n"
     ]
    },
    {
     "name": "stdout",
     "output_type": "stream",
     "text": [
      "Epoch [6/10], Loss: 0.9664332866668701\n"
     ]
    },
    {
     "name": "stderr",
     "output_type": "stream",
     "text": [
      "Evaluating model performace: 100%|██████████| 200/200 [00:00<00:00, 356.05it/s]\n"
     ]
    },
    {
     "name": "stdout",
     "output_type": "stream",
     "text": [
      "Accuracy:0.72\n"
     ]
    },
    {
     "name": "stderr",
     "output_type": "stream",
     "text": [
      "Training on epoch 7: 100%|██████████| 10000/10000 [00:57<00:00, 173.37it/s]\n"
     ]
    },
    {
     "name": "stdout",
     "output_type": "stream",
     "text": [
      "Epoch [7/10], Loss: 1.456765055656433\n"
     ]
    },
    {
     "name": "stderr",
     "output_type": "stream",
     "text": [
      "Evaluating model performace: 100%|██████████| 200/200 [00:00<00:00, 451.42it/s]\n"
     ]
    },
    {
     "name": "stdout",
     "output_type": "stream",
     "text": [
      "Accuracy:0.62\n"
     ]
    },
    {
     "name": "stderr",
     "output_type": "stream",
     "text": [
      "Training on epoch 8: 100%|██████████| 10000/10000 [00:57<00:00, 173.11it/s]\n"
     ]
    },
    {
     "name": "stdout",
     "output_type": "stream",
     "text": [
      "Epoch [8/10], Loss: 0.5437828302383423\n"
     ]
    },
    {
     "name": "stderr",
     "output_type": "stream",
     "text": [
      "Evaluating model performace: 100%|██████████| 200/200 [00:00<00:00, 519.35it/s]\n"
     ]
    },
    {
     "name": "stdout",
     "output_type": "stream",
     "text": [
      "Accuracy:0.70\n"
     ]
    },
    {
     "name": "stderr",
     "output_type": "stream",
     "text": [
      "Training on epoch 9: 100%|██████████| 10000/10000 [00:53<00:00, 186.49it/s]\n"
     ]
    },
    {
     "name": "stdout",
     "output_type": "stream",
     "text": [
      "Epoch [9/10], Loss: 0.378082275390625\n"
     ]
    },
    {
     "name": "stderr",
     "output_type": "stream",
     "text": [
      "Evaluating model performace: 100%|██████████| 200/200 [00:00<00:00, 335.67it/s]\n"
     ]
    },
    {
     "name": "stdout",
     "output_type": "stream",
     "text": [
      "Accuracy:0.75\n"
     ]
    },
    {
     "name": "stderr",
     "output_type": "stream",
     "text": [
      "Training on epoch 10: 100%|██████████| 10000/10000 [00:55<00:00, 178.59it/s]\n"
     ]
    },
    {
     "name": "stdout",
     "output_type": "stream",
     "text": [
      "Epoch [10/10], Loss: 0.163670614361763\n"
     ]
    },
    {
     "name": "stderr",
     "output_type": "stream",
     "text": [
      "Evaluating model performace: 100%|██████████| 200/200 [00:00<00:00, 388.23it/s]"
     ]
    },
    {
     "name": "stdout",
     "output_type": "stream",
     "text": [
      "Accuracy:0.77\n"
     ]
    },
    {
     "name": "stderr",
     "output_type": "stream",
     "text": [
      "\n"
     ]
    }
   ],
   "source": [
    "from tqdm import tqdm\n",
    "input_size = len(actions)\n",
    "hidden_size = 64\n",
    "num_layers = 4\n",
    "output_size = 2\n",
    "model = LSTMClassifier(input_size, hidden_size,\n",
    "                       num_layers, output_size).to(\"cuda\")\n",
    "\n",
    "criterion = nn.CrossEntropyLoss()\n",
    "optimizer = torch.optim.Adam(model.parameters(), lr=0.001)\n",
    "\n",
    "num_epochs = 10\n",
    "for epoch in range(num_epochs):\n",
    "    for _, sample in tqdm(train_df.iterrows(), total=len(train_df.index), desc=f\"Training on epoch {epoch+1}\"):\n",
    "        optimizer.zero_grad()\n",
    "        sequence_tensor = sequence_to_tensor(\n",
    "            ast.literal_eval(sample[\"actions\"]))\n",
    "        sequence_tensor = sequence_tensor.to(\"cuda\")\n",
    "        if (len(sequence_tensor) == 0):\n",
    "            continue\n",
    "        sequence_tensor = torch.reshape(sequence_tensor, (1, -1, input_size))\n",
    "        outputs = model(sequence_tensor)\n",
    "        label_tensor = label_to_tensor(sample[\"hesitate\"])\n",
    "        label_tensor = label_tensor.to(\n",
    "            \"cuda\", dtype=torch.float64).reshape((1, 2))\n",
    "        loss = criterion(outputs, label_tensor)\n",
    "        loss.backward()\n",
    "        optimizer.step()\n",
    "    print(f'Epoch [{epoch+1}/{num_epochs}], Loss: {loss.item()}')\n",
    "    total = len(test_df.index)\n",
    "    correct = 0\n",
    "    for _, row in tqdm(test_df.iterrows(), total=len(test_df.index),  desc=\"Evaluating model performace\"):\n",
    "        sequence_tensor = sequence_to_tensor(\n",
    "            ast.literal_eval(row[\"actions\"]))\n",
    "        if (len(sequence_tensor) == 0):\n",
    "            total -= 1\n",
    "            continue\n",
    "        sequence_tensor = sequence_tensor.to(\n",
    "            \"cuda\").reshape((1, -1, input_size))\n",
    "\n",
    "        with torch.no_grad():\n",
    "            predicted_tensor = model(sequence_tensor)\n",
    "        predicted = predicted_tensor.argmax()\n",
    "        if predicted == row[\"hesitate\"]:\n",
    "            correct += 1\n",
    "    print(f\"Accuracy:{correct / total:.2f}\",)"
   ]
  },
  {
   "cell_type": "code",
   "execution_count": 278,
   "metadata": {},
   "outputs": [
    {
     "name": "stdout",
     "output_type": "stream",
     "text": [
      "user actions: ['selectcontent', 'viewmainpage', 'viewmainpage', 'selectcontent', 'viewecoupondetail', 'selectcontent', 'viewecoupondetail', 'selectcontent', 'selectcontent', 'selectcontent', 'selectcontent', 'selectcontent', 'selectcontent', 'selectcontent', 'selectcontent', 'viewmainpage', 'selectcontent', 'selectcontent', 'selectcontent', 'selectcontent', 'selectcontent', 'viewmainpage', 'selectcontent', 'selectcontent', 'selectcontent', 'selectcontent', 'viewmainpage', 'viewmainpage', 'selectcontent', 'selectcontent', 'selectcontent', 'viewmainpage', 'selectcontent', 'viewmainpage', 'selectcontent', 'viewmainpage', 'selectcontent', 'selectcontent', 'selectcontent', 'selectcontent', 'viewecoupondetail', 'viewecoupondetail', 'viewecoupondetail', 'viewproduct', 'add', 'selectcontent', 'viewmainpage', 'selectcontent', 'selectcontent', 'selectcontent', 'checkout', 'selectcontent', 'selectcontent', 'selectcontent', 'selectcontent', 'viewmainpage', 'selectcontent', 'viewmainpage', 'selectcontent', 'viewmainpage', 'selectcontent', 'selectcontent', 'viewmainpage', 'selectcontent', 'selectcontent', 'selectcontent', 'viewmainpage', 'selectcontent', 'viewmainpage', 'selectcontent', 'viewmainpage', 'selectcontent', 'selectcontent', 'viewecoupondetail', 'viewecoupondetail', 'viewmainpage', 'selectcontent', 'selectcontent', 'viewproduct', 'viewmainpage', 'selectcontent', 'selectcontent', 'viewcustompage', 'selectcontent', 'viewmainpage', 'selectcontent', 'selectcontent', 'viewmainpage', 'selectcontent', 'selectcontent', 'selectcontent', 'viewmainpage', 'selectcontent', 'selectcontent', 'selectcontent', 'viewmainpage', 'selectcontent', 'viewmainpage', 'selectcontent', 'selectcontent', 'viewmainpage', 'selectcontent', 'selectcontent', 'viewmainpage', 'selectcontent', 'viewmainpage', 'selectcontent', 'viewmainpage', 'selectcontent', 'selectcontent', 'selectcontent', 'viewecoupondetail', 'viewproduct', 'add', 'viewecoupondetail', 'selectcontent', 'viewecoupondetail', 'selectcontent', 'viewmainpage', 'selectcontent', 'checkout', 'checkout', 'viewpromotiondetail', 'viewpromotiondetail', 'viewpromotiondetail', 'viewpromotiondetail', 'viewpromotiondetail', 'viewpromotiondetail', 'viewpromotiondetail', 'viewpromotiondetail', 'viewmainpage', 'selectcontent', 'selectcontent', 'selectcontent', 'viewmainpage', 'selectcontent', 'viewmainpage', 'selectcontent', 'selectcontent', 'viewmainpage', 'selectcontent', 'viewmainpage', 'selectcontent', 'viewcustompage', 'selectcontent', 'selectcontent', 'viewmainpage', 'selectcontent', 'viewecoupondetail', 'viewmainpage', 'selectcontent', 'viewmainpage', 'selectcontent', 'selectcontent', 'selectcontent', 'viewecoupondetail', 'viewproduct', 'add', 'viewecoupondetail', 'viewproduct', 'selectcontent', 'selectcontent', 'viewmainpage', 'selectcontent', 'selectcontent', 'viewpromotiondetail', 'viewmainpage', 'selectcontent', 'selectcontent', 'viewmainpage', 'selectcontent', 'selectcontent', 'viewmainpage', 'selectcontent', 'viewmainpage', 'selectcontent', 'selectcontent', 'add', 'viewpromotiondetail', 'viewpromotiondetail', 'viewmainpage', 'selectcontent', 'selectcontent', 'viewpromotiondetail', 'viewmainpage', 'selectcontent', 'viewmainpage', 'selectcontent', 'selectcontent', 'selectcontent', 'viewmainpage', 'selectcontent', 'selectcontent', 'viewmainpage', 'selectcontent', 'viewmainpage', 'selectcontent', 'selectcontent', 'selectcontent', 'viewpromotiondetail', 'viewmainpage', 'selectcontent', 'selectcontent', 'selectcontent', 'viewmainpage', 'selectcontent', 'viewmainpage', 'selectcontent', 'viewpromotiondetail', 'viewpromotiondetail', 'viewpromotiondetail', 'viewproduct', 'viewpromotiondetail', 'selectcontent', 'viewmainpage', 'selectcontent', 'viewmainpage', 'selectcontent', 'selectcontent', 'viewmainpage', 'selectcontent', 'selectcontent', 'selectcontent', 'selectcontent', 'viewpromotiondetail', 'viewmainpage', 'selectcontent', 'selectcontent', 'viewcustompage', 'viewmainpage', 'selectcontent', 'selectcontent', 'viewecoupondetail', 'selectcontent', 'viewmainpage', 'selectcontent', 'selectcontent', 'search', 'selectcontent', 'viewmainpage', 'selectcontent', 'selectcontent', 'viewmainpage', 'selectcontent', 'selectcontent', 'viewmainpage', 'selectcontent', 'viewmainpage', 'selectcontent', 'selectcontent', 'selectcontent', 'viewmainpage', 'selectcontent', 'selectcontent', 'viewmainpage', 'selectcontent', 'selectcontent', 'selectcontent', 'selectcontent', 'viewmainpage', 'selectcontent', 'viewmainpage', 'selectcontent', 'selectcontent', 'viewmainpage', 'selectcontent', 'selectcontent', 'viewproduct', 'add', 'viewmainpage', 'selectcontent', 'selectcontent', 'viewproduct', 'add', 'viewmainpage', 'selectcontent', 'selectcontent', 'viewcustompage', 'viewmainpage', 'selectcontent', 'selectcontent', 'selectcontent', 'selectcontent', 'selectcontent', 'viewmainpage', 'selectcontent', 'viewmainpage', 'selectcontent', 'selectcontent', 'viewmainpage', 'selectcontent', 'selectcontent', 'selectcontent', 'selectcontent', 'viewcustompage', 'selectcontent', 'viewmainpage', 'selectcontent', 'selectcontent', 'viewmainpage', 'selectcontent', 'selectcontent', 'viewproduct', 'add', 'viewmainpage', 'selectcontent', 'selectcontent', 'selectcontent', 'viewmainpage', 'selectcontent', 'viewmainpage', 'selectcontent', 'selectcontent', 'selectcontent', 'viewmainpage', 'selectcontent', 'viewmainpage', 'selectcontent', 'selectcontent', 'viewmainpage', 'selectcontent', 'selectcontent', 'selectcontent', 'viewmainpage', 'selectcontent', 'selectcontent', 'selectcontent', 'selectcontent', 'viewmainpage', 'selectcontent', 'search', 'viewmainpage', 'selectcontent', 'selectcontent', 'search', 'viewmainpage', 'selectcontent', 'selectcontent', 'search', 'viewmainpage', 'selectcontent', 'selectcontent', 'search', 'viewmainpage', 'selectcontent', 'selectcontent', 'search', 'viewmainpage', 'selectcontent', 'selectcontent', 'search', 'selectcontent', 'viewmainpage', 'selectcontent', 'selectcontent', 'selectcontent', 'viewmainpage', 'selectcontent', 'selectcontent', 'search', 'viewproduct', 'viewproduct', 'add', 'selectcontent', 'viewmainpage', 'selectcontent', 'selectcontent', 'viewmainpage', 'selectcontent', 'selectcontent', 'checkout', 'checkout', 'selectcontent', 'viewmainpage', 'selectcontent', 'checkout', 'checkout', 'checkout', 'checkout', 'checkout', 'checkout'] predicted behavior: hesitate\n",
      "user actions: ['viewmainpage', 'viewecoupondetail', 'viewmainpage', 'selectcontent', 'selectcontent', 'selectcontent', 'viewmainpage', 'selectcontent', 'viewmainpage', 'selectcontent', 'viewmainpage', 'viewmainpage', 'viewecoupondetail', 'viewmainpage', 'selectcontent', 'selectcontent', 'search', 'viewproduct', 'viewecoupondetail', 'viewproduct', 'viewecoupondetail', 'viewproduct', 'add', 'selectcontent', 'checkout', 'viewproduct', 'search', 'viewproduct', 'add', 'selectcontent', 'checkout', 'checkout', 'checkout', 'checkout', 'checkout', 'checkout', 'viewproduct', 'viewproduct', 'checkout', 'checkout', 'checkout', 'checkout', 'viewproduct'] predicted behavior: hesitate\n",
      "warning: action sequence length == 0\n",
      "user actions: ['viewmainpage', 'viewcategory', 'viewproduct', 'viewcategory', 'viewproduct', 'add', 'viewcategory', 'viewproduct', 'add', 'viewcategory', 'viewproduct', 'add', 'selectcontent', 'viewproduct', 'viewecoupondetail', 'add', 'viewpromotiondetail', 'checkout', 'checkout', 'checkout', 'checkout', 'checkout', 'checkout', 'viewmainpage', 'viewecoupondetail', 'selectcontent', 'viewmainpage', 'selectcontent', 'selectcontent', 'viewcustompage', 'selectcontent', 'viewcategory', 'viewproduct', 'add', 'selectcontent', 'viewproduct', 'viewcategory', 'viewproduct', 'selectcontent', 'viewproduct', 'viewproduct', 'add', 'selectcontent', 'viewecoupondetail', 'checkout', 'checkout', 'checkout', 'checkout', 'checkout', 'checkout', 'checkout', 'checkout', 'viewproduct'] predicted behavior: normal\n",
      "user actions: ['viewmainpage', 'selectcontent', 'selectcontent', 'selectcontent', 'selectcontent', 'selectcontent', 'selectcontent', 'selectcontent', 'selectcontent', 'selectcontent', 'selectcontent', 'viewmainpage', 'viewmainpage', 'selectcontent', 'viewmainpage', 'selectcontent', 'selectcontent', 'selectcontent', 'viewmainpage', 'selectcontent', 'selectcontent', 'selectcontent', 'viewmainpage', 'selectcontent', 'viewmainpage', 'viewmainpage', 'selectcontent', 'viewcustompage', 'viewmainpage', 'selectcontent', 'viewpromotiondetail', 'viewmainpage', 'viewmainpage', 'selectcontent', 'selectcontent', 'viewmainpage', 'viewmainpage', 'viewecoupondetail', 'selectcontent', 'viewmainpage', 'selectcontent', 'selectcontent', 'viewmainpage', 'selectcontent', 'selectcontent', 'selectcontent', 'viewmainpage', 'selectcontent', 'viewmainpage', 'viewcategory', 'viewmainpage', 'selectcontent', 'viewecoupondetail', 'selectcontent', 'viewmainpage', 'viewmainpage', 'selectcontent', 'viewmainpage', 'selectcontent', 'selectcontent', 'viewproduct', 'add', 'viewproduct', 'add', 'viewproduct', 'viewmainpage', 'selectcontent', 'viewcustompage', 'viewmainpage', 'selectcontent', 'viewmainpage', 'selectcontent', 'viewmainpage', 'selectcontent', 'viewmainpage', 'viewmainpage', 'viewmainpage', 'selectcontent', 'selectcontent', 'search', 'search', 'viewmainpage', 'selectcontent', 'viewmainpage', 'selectcontent', 'viewmainpage', 'selectcontent', 'viewcustompage', 'viewmainpage', 'selectcontent', 'viewcustompage', 'viewmainpage', 'selectcontent', 'viewcustompage', 'viewmainpage', 'viewmainpage', 'viewmainpage', 'viewmainpage', 'viewmainpage', 'viewmainpage', 'viewmainpage', 'viewmainpage', 'selectcontent', 'viewmainpage', 'viewmainpage', 'viewmainpage', 'selectcontent', 'viewmainpage', 'selectcontent', 'viewmainpage', 'viewmainpage', 'selectcontent', 'viewmainpage', 'selectcontent', 'viewmainpage', 'selectcontent', 'viewmainpage', 'selectcontent', 'viewmainpage', 'selectcontent', 'viewmainpage', 'selectcontent', 'viewcustompage', 'viewmainpage', 'selectcontent', 'viewcustompage', 'viewmainpage', 'selectcontent', 'viewmainpage', 'selectcontent', 'viewmainpage', 'selectcontent', 'viewmainpage', 'viewmainpage', 'viewmainpage', 'viewmainpage', 'viewmainpage', 'viewmainpage', 'viewmainpage', 'viewmainpage', 'viewecoupondetail', 'viewmainpage', 'selectcontent', 'viewmainpage', 'viewmainpage', 'viewmainpage', 'viewmainpage', 'viewmainpage', 'viewmainpage', 'viewmainpage', 'viewmainpage', 'viewecoupondetail', 'viewmainpage', 'selectcontent', 'selectcontent', 'viewcustompage', 'viewmainpage', 'viewmainpage', 'viewmainpage', 'viewecoupondetail', 'viewmainpage', 'selectcontent', 'selectcontent', 'viewcustompage', 'viewmainpage', 'selectcontent', 'search', 'search', 'viewmainpage', 'selectcontent', 'viewcustompage', 'viewmainpage', 'selectcontent', 'viewmainpage', 'selectcontent', 'search', 'selectcontent', 'selectcontent', 'viewmainpage', 'viewecoupondetail', 'viewproduct', 'viewecoupondetail', 'viewproduct', 'add', 'viewproduct', 'viewmainpage', 'selectcontent', 'selectcontent', 'search', 'selectcontent', 'viewmainpage', 'selectcontent', 'viewcustompage', 'selectcontent', 'viewmainpage', 'viewecoupondetail', 'viewmainpage', 'selectcontent', 'viewcustompage', 'selectcontent', 'viewcustompage', 'viewmainpage', 'selectcontent', 'search', 'viewmainpage', 'selectcontent', 'selectcontent', 'viewcustompage', 'viewmainpage', 'selectcontent', 'viewcustompage', 'viewmainpage', 'selectcontent', 'viewcustompage', 'viewmainpage', 'selectcontent', 'viewmainpage', 'viewmainpage', 'selectcontent', 'selectcontent', 'search', 'viewproduct', 'add', 'viewproduct', 'viewmainpage', 'selectcontent', 'selectcontent', 'viewcustompage', 'viewmainpage', 'selectcontent', 'checkout', 'viewmainpage', 'viewmainpage', 'selectcontent', 'selectcontent', 'search', 'viewproduct', 'viewpromotiondetail', 'viewproduct', 'viewpromotiondetail', 'viewproduct', 'viewpromotiondetail', 'viewproduct', 'viewmainpage', 'selectcontent', 'viewmainpage', 'viewmainpage', 'viewecoupondetail', 'viewmainpage', 'selectcontent', 'selectcontent', 'viewmainpage', 'selectcontent', 'viewmainpage', 'viewmainpage', 'selectcontent', 'viewmainpage', 'selectcontent', 'viewcustompage', 'viewmainpage', 'selectcontent', 'viewmainpage', 'selectcontent', 'viewmainpage', 'selectcontent', 'viewmainpage', 'selectcontent', 'checkout', 'checkout', 'viewmainpage', 'selectcontent', 'viewmainpage', 'selectcontent', 'selectcontent', 'selectcontent', 'selectcontent', 'selectcontent', 'checkout', 'checkout'] predicted behavior: hesitate\n",
      "user actions: ['viewmainpage', 'selectcontent', 'viewmainpage', 'selectcontent', 'search', 'search', 'search', 'search', 'viewproduct', 'selectcontent', 'viewproduct', 'add', 'selectcontent', 'checkout', 'checkout', 'checkout', 'checkout'] predicted behavior: normal\n",
      "user actions: ['viewmainpage', 'viewmainpage', 'viewecoupondetail', 'selectcontent', 'selectcontent', 'viewmainpage', 'viewecoupondetail', 'selectcontent', 'selectcontent', 'selectcontent', 'viewmainpage', 'viewecoupondetail', 'viewmainpage', 'selectcontent', 'selectcontent', 'search', 'viewproduct', 'add', 'viewproduct', 'search', 'search', 'search', 'search', 'search', 'selectcontent', 'viewmainpage', 'selectcontent', 'viewmainpage', 'selectcontent', 'viewpromotiondetail', 'checkout', 'viewproduct', 'viewmainpage', 'selectcontent', 'checkout', 'viewmainpage', 'viewecoupondetail', 'viewmainpage', 'viewmainpage', 'selectcontent', 'viewcustompage', 'viewmainpage', 'selectcontent', 'selectcontent', 'selectcontent', 'viewmainpage', 'selectcontent', 'viewecoupondetail', 'selectcontent', 'selectcontent', 'viewmainpage', 'selectcontent', 'selectcontent', 'checkout'] predicted behavior: hesitate\n",
      "user actions: ['viewproduct', 'selectcontent', 'viewcustompage', 'viewmainpage', 'selectcontent', 'selectcontent', 'selectcontent', 'selectcontent', 'add', 'viewproduct', 'add', 'search', 'add', 'viewproduct', 'viewproduct', 'viewmainpage', 'selectcontent', 'selectcontent', 'viewpromotiondetail', 'viewpromotiondetail', 'viewpromotiondetail', 'viewproduct', 'checkout', 'checkout', 'checkout', 'checkout', 'checkout', 'checkout', 'checkout', 'checkout'] predicted behavior: normal\n",
      "user actions: ['viewmainpage', 'viewecoupondetail', 'selectcontent', 'viewmainpage', 'selectcontent', 'selectcontent', 'viewcustompage', 'viewmainpage', 'selectcontent', 'viewmainpage', 'selectcontent', 'viewcustompage', 'viewmainpage', 'selectcontent', 'viewcustompage', 'viewmainpage', 'selectcontent', 'viewmainpage', 'selectcontent', 'viewcustompage', 'viewmainpage', 'selectcontent', 'selectcontent', 'selectcontent', 'selectcontent', 'selectcontent', 'selectcontent', 'selectcontent', 'viewcustompage', 'viewcustompage', 'viewmainpage', 'viewecoupondetail', 'selectcontent', 'viewmainpage', 'selectcontent', 'selectcontent', 'viewcustompage', 'selectcontent', 'viewmainpage', 'selectcontent', 'search', 'viewproduct', 'viewproduct', 'viewproduct', 'viewproduct', 'viewproduct', 'viewmainpage', 'selectcontent', 'selectcontent', 'viewmainpage', 'selectcontent', 'viewproduct', 'viewmainpage', 'selectcontent', 'viewmainpage', 'viewcategory', 'viewmainpage', 'selectcontent', 'selectcontent', 'viewmainpage', 'selectcontent', 'viewmainpage', 'viewmainpage', 'selectcontent', 'selectcontent', 'viewmainpage', 'viewcategory', 'viewmainpage', 'selectcontent', 'viewproduct', 'viewmainpage', 'selectcontent', 'selectcontent', 'viewmainpage', 'viewcategory', 'viewmainpage', 'selectcontent', 'viewmainpage', 'viewcategory', 'selectcontent', 'viewmainpage', 'selectcontent', 'viewcustompage', 'viewmainpage', 'selectcontent', 'selectcontent', 'viewmainpage', 'selectcontent', 'viewmainpage', 'selectcontent', 'viewmainpage', 'viewcategory', 'selectcontent', 'selectcontent', 'selectcontent', 'viewcategory', 'viewproduct', 'viewcategory', 'viewproduct', 'viewcategory', 'viewproduct', 'viewcategory', 'viewproduct', 'viewcategory', 'viewproduct', 'viewcategory', 'viewproduct', 'viewcategory', 'viewmainpage', 'selectcontent', 'viewmainpage', 'selectcontent', 'selectcontent', 'selectcontent', 'selectcontent', 'selectcontent', 'viewmainpage', 'viewcategory', 'viewmainpage', 'selectcontent', 'viewmainpage', 'viewcategory', 'viewmainpage', 'selectcontent', 'viewmainpage', 'viewcategory', 'viewmainpage', 'selectcontent', 'viewmainpage', 'viewcategory', 'viewmainpage', 'selectcontent', 'viewmainpage', 'viewcategory', 'viewmainpage', 'selectcontent', 'search', 'search', 'viewproduct', 'viewproduct', 'viewmainpage', 'viewecoupondetail', 'viewmainpage', 'selectcontent', 'viewmainpage', 'viewecoupondetail', 'selectcontent', 'selectcontent', 'selectcontent', 'selectcontent', 'viewmainpage', 'selectcontent', 'selectcontent', 'search', 'viewproduct', 'add', 'selectcontent', 'viewmainpage', 'selectcontent', 'search', 'selectcontent', 'viewmainpage', 'selectcontent', 'search', 'viewproduct', 'viewproduct', 'viewproduct', 'viewproduct', 'viewproduct', 'search', 'viewproduct', 'selectcontent', 'viewmainpage', 'selectcontent', 'viewproduct', 'viewmainpage', 'selectcontent', 'viewcustompage', 'viewmainpage', 'selectcontent', 'viewmainpage', 'viewmainpage', 'viewecoupondetail', 'viewmainpage', 'selectcontent', 'selectcontent', 'search', 'search', 'search', 'search', 'viewmainpage', 'selectcontent', 'search', 'selectcontent', 'viewmainpage', 'selectcontent', 'search', 'selectcontent', 'viewmainpage', 'selectcontent', 'search', 'search', 'viewproduct', 'selectcontent', 'viewmainpage', 'selectcontent', 'viewmainpage', 'selectcontent', 'viewcustompage', 'viewmainpage', 'selectcontent', 'viewcustompage', 'viewmainpage', 'selectcontent', 'viewmainpage', 'selectcontent', 'selectcontent', 'viewmainpage', 'selectcontent', 'viewmainpage', 'selectcontent', 'viewmainpage', 'selectcontent', 'viewpromotiondetail', 'viewpromotiondetail', 'viewpromotiondetail', 'viewpromotiondetail', 'viewpromotiondetail', 'viewpromotiondetail', 'viewpromotiondetail', 'viewpromotiondetail', 'viewmainpage', 'selectcontent', 'viewcustompage', 'selectcontent', 'viewcustompage', 'selectcontent', 'viewmainpage', 'viewmainpage', 'viewmainpage', 'selectcontent', 'selectcontent', 'selectcontent', 'selectcontent', 'selectcontent', 'selectcontent', 'selectcontent', 'selectcontent', 'selectcontent', 'selectcontent', 'selectcontent', 'selectcontent', 'selectcontent', 'viewmainpage', 'viewecoupondetail', 'selectcontent', 'viewmainpage', 'selectcontent', 'selectcontent', 'selectcontent', 'selectcontent', 'selectcontent', 'selectcontent', 'selectcontent', 'selectcontent', 'selectcontent', 'viewmainpage', 'selectcontent', 'viewcustompage', 'viewmainpage', 'selectcontent', 'viewcustompage', 'selectcontent', 'viewmainpage', 'selectcontent', 'viewmainpage', 'selectcontent', 'selectcontent', 'selectcontent', 'viewmainpage', 'selectcontent', 'viewproduct', 'add', 'add', 'selectcontent', 'selectcontent', 'checkout', 'checkout', 'checkout', 'viewmainpage', 'selectcontent', 'viewmainpage', 'selectcontent', 'selectcontent', 'selectcontent', 'selectcontent', 'selectcontent', 'selectcontent', 'selectcontent', 'selectcontent', 'selectcontent', 'selectcontent', 'checkout', 'checkout', 'checkout'] predicted behavior: hesitate\n",
      "user actions: ['viewmainpage', 'selectcontent', 'viewmainpage', 'viewecoupondetail', 'viewmainpage', 'selectcontent', 'selectcontent', 'search', 'viewproduct', 'add', 'viewproduct', 'search', 'viewproduct', 'viewproduct', 'add', 'viewmainpage', 'selectcontent', 'checkout', 'checkout', 'checkout', 'checkout'] predicted behavior: normal\n"
     ]
    }
   ],
   "source": [
    "def predict(row):\n",
    "    sequence_tensor = sequence_to_tensor(\n",
    "        ast.literal_eval(row[\"actions\"]))\n",
    "    if (len(sequence_tensor) == 0):\n",
    "        print(\"warning: action sequence length == 0\")\n",
    "        return\n",
    "    sequence_tensor = sequence_tensor.to(\n",
    "        \"cuda\").reshape((1, -1, input_size))\n",
    "\n",
    "    with torch.no_grad():\n",
    "        predicted_tensor = model(sequence_tensor)\n",
    "    predicted = predicted_tensor.argmax()\n",
    "    print(\"user actions:\", row[\"actions\"],\n",
    "          \"predicted behavior:\", \"hesitate\" if predicted == 1 else \"normal\")\n",
    "\n",
    "\n",
    "for _, row in test_df.sample(n=10).iterrows():\n",
    "    predict(row)"
   ]
  },
  {
   "cell_type": "code",
   "execution_count": 280,
   "metadata": {},
   "outputs": [
    {
     "name": "stdout",
     "output_type": "stream",
     "text": [
      "LSTM Model's state_dict:\n",
      "lstm.weight_ih_l0 \t torch.Size([256, 17])\n",
      "lstm.weight_hh_l0 \t torch.Size([256, 64])\n",
      "lstm.bias_ih_l0 \t torch.Size([256])\n",
      "lstm.bias_hh_l0 \t torch.Size([256])\n",
      "lstm.weight_ih_l1 \t torch.Size([256, 64])\n",
      "lstm.weight_hh_l1 \t torch.Size([256, 64])\n",
      "lstm.bias_ih_l1 \t torch.Size([256])\n",
      "lstm.bias_hh_l1 \t torch.Size([256])\n",
      "lstm.weight_ih_l2 \t torch.Size([256, 64])\n",
      "lstm.weight_hh_l2 \t torch.Size([256, 64])\n",
      "lstm.bias_ih_l2 \t torch.Size([256])\n",
      "lstm.bias_hh_l2 \t torch.Size([256])\n",
      "lstm.weight_ih_l3 \t torch.Size([256, 64])\n",
      "lstm.weight_hh_l3 \t torch.Size([256, 64])\n",
      "lstm.bias_ih_l3 \t torch.Size([256])\n",
      "lstm.bias_hh_l3 \t torch.Size([256])\n",
      "fc.weight \t torch.Size([2, 64])\n",
      "fc.bias \t torch.Size([2])\n"
     ]
    }
   ],
   "source": [
    "print(\"LSTM Model's state_dict:\")\n",
    "for param_tensor in model.state_dict():\n",
    "    print(param_tensor, \"\\t\", model.state_dict()[param_tensor].size())"
   ]
  },
  {
   "cell_type": "markdown",
   "metadata": {},
   "source": [
    "# Save Model Parameters"
   ]
  },
  {
   "cell_type": "code",
   "execution_count": 282,
   "metadata": {},
   "outputs": [],
   "source": [
    "torch.save(model.state_dict(), \"./model.bin\")"
   ]
  },
  {
   "cell_type": "markdown",
   "metadata": {},
   "source": [
    "# Model Architecture"
   ]
  },
  {
   "cell_type": "code",
   "execution_count": 283,
   "metadata": {},
   "outputs": [
    {
     "data": {
      "text/plain": [
       "LSTMClassifier(\n",
       "  (lstm): LSTM(17, 64, num_layers=4, batch_first=True)\n",
       "  (fc): Linear(in_features=64, out_features=2, bias=True)\n",
       ")"
      ]
     },
     "execution_count": 283,
     "metadata": {},
     "output_type": "execute_result"
    }
   ],
   "source": [
    "# load model\n",
    "loaded_model = LSTMClassifier(input_size, hidden_size,\n",
    "                              num_layers, output_size).to(\"cuda\")\n",
    "loaded_model.load_state_dict(torch.load(\"./model.bin\"))\n",
    "loaded_model.eval()"
   ]
  }
 ],
 "metadata": {
  "kernelspec": {
   "display_name": "dl-env",
   "language": "python",
   "name": "python3"
  },
  "language_info": {
   "codemirror_mode": {
    "name": "ipython",
    "version": 3
   },
   "file_extension": ".py",
   "mimetype": "text/x-python",
   "name": "python",
   "nbconvert_exporter": "python",
   "pygments_lexer": "ipython3",
   "version": "3.10.14"
  }
 },
 "nbformat": 4,
 "nbformat_minor": 2
}
