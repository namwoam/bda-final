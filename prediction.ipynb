{
 "cells": [
  {
   "cell_type": "code",
   "execution_count": 168,
   "metadata": {},
   "outputs": [],
   "source": [
    "import pandas as pd\n",
    "import matplotlib.pyplot as plt"
   ]
  },
  {
   "cell_type": "code",
   "execution_count": 89,
   "metadata": {},
   "outputs": [
    {
     "data": {
      "text/html": [
       "<div>\n",
       "<style scoped>\n",
       "    .dataframe tbody tr th:only-of-type {\n",
       "        vertical-align: middle;\n",
       "    }\n",
       "\n",
       "    .dataframe tbody tr th {\n",
       "        vertical-align: top;\n",
       "    }\n",
       "\n",
       "    .dataframe thead th {\n",
       "        text-align: right;\n",
       "    }\n",
       "</style>\n",
       "<table border=\"1\" class=\"dataframe\">\n",
       "  <thead>\n",
       "    <tr style=\"text-align: right;\">\n",
       "      <th></th>\n",
       "      <th>customer_id</th>\n",
       "      <th>actions</th>\n",
       "      <th>start_time</th>\n",
       "      <th>end_time</th>\n",
       "      <th>time_to_checkout</th>\n",
       "      <th>trade_order</th>\n",
       "      <th>hesitate</th>\n",
       "      <th>time_to_checkout_hours</th>\n",
       "    </tr>\n",
       "  </thead>\n",
       "  <tbody>\n",
       "    <tr>\n",
       "      <th>0</th>\n",
       "      <td>++FIhbHyngN8aqKzA8CMRqChC6tQTKXhtDU+hg381mZNfe...</td>\n",
       "      <td>['viewmainpage', 'viewmainpage', 'viewmainpage...</td>\n",
       "      <td>2024-02-25 23:58:02.980000000</td>\n",
       "      <td>2024-02-29 12:12:44.464000000</td>\n",
       "      <td>3 days 12:14:41.484000</td>\n",
       "      <td>jEbPPtt12/ykfvhRHiieDQ==</td>\n",
       "      <td>0</td>\n",
       "      <td>84.244857</td>\n",
       "    </tr>\n",
       "    <tr>\n",
       "      <th>6</th>\n",
       "      <td>++doREVuZr5K92Pn6JldYc5IEOxK87bMXH7k17DXfIfjKR...</td>\n",
       "      <td>['viewproduct', 'viewproduct', 'add', 'vieweco...</td>\n",
       "      <td>2024-02-21 13:40:43.792999936</td>\n",
       "      <td>2024-02-21 14:02:08.567000064</td>\n",
       "      <td>0 days 00:21:24.774000128</td>\n",
       "      <td>OCtlXMHRpQgF7R7Qgr+pQw==</td>\n",
       "      <td>0</td>\n",
       "      <td>0.356882</td>\n",
       "    </tr>\n",
       "    <tr>\n",
       "      <th>8</th>\n",
       "      <td>++oPv+nfMMNpLcIyxFHVU4+xr3OuWVC51olWbpAYPQT8Ah...</td>\n",
       "      <td>['viewmainpage', 'selectcontent', 'selectconte...</td>\n",
       "      <td>2024-02-29 08:48:08.900000000</td>\n",
       "      <td>2024-02-29 09:12:49.097999872</td>\n",
       "      <td>0 days 00:24:40.197999872</td>\n",
       "      <td>7T7uuoWUdmQKcv6NGTnBYA==</td>\n",
       "      <td>0</td>\n",
       "      <td>0.411166</td>\n",
       "    </tr>\n",
       "    <tr>\n",
       "      <th>10</th>\n",
       "      <td>++ro4mBltilmKQoZ1EoomFyZpqYdg2paWytjQULplyWhtv...</td>\n",
       "      <td>['viewmainpage', 'viewecoupondetail', 'viewmai...</td>\n",
       "      <td>2024-02-07 19:18:42.263000064</td>\n",
       "      <td>2024-02-07 19:27:22.728000000</td>\n",
       "      <td>0 days 00:08:40.464999936</td>\n",
       "      <td>U6kl6NYaJKWE/T4StQipjw==</td>\n",
       "      <td>0</td>\n",
       "      <td>0.144574</td>\n",
       "    </tr>\n",
       "    <tr>\n",
       "      <th>13</th>\n",
       "      <td>++tNFD97NnjhNLDzZqgyZ6ib78s1wFUYAunkGRknnIbBeU...</td>\n",
       "      <td>['viewmainpage', 'selectcontent', 'viewcustomp...</td>\n",
       "      <td>2024-02-12 22:09:47.228999936</td>\n",
       "      <td>2024-02-12 22:26:09.052000000</td>\n",
       "      <td>0 days 00:16:21.823000064</td>\n",
       "      <td>0b2JZZhDpi0WRM0Z2BgLrg==</td>\n",
       "      <td>0</td>\n",
       "      <td>0.272729</td>\n",
       "    </tr>\n",
       "  </tbody>\n",
       "</table>\n",
       "</div>"
      ],
      "text/plain": [
       "                                          customer_id  \\\n",
       "0   ++FIhbHyngN8aqKzA8CMRqChC6tQTKXhtDU+hg381mZNfe...   \n",
       "6   ++doREVuZr5K92Pn6JldYc5IEOxK87bMXH7k17DXfIfjKR...   \n",
       "8   ++oPv+nfMMNpLcIyxFHVU4+xr3OuWVC51olWbpAYPQT8Ah...   \n",
       "10  ++ro4mBltilmKQoZ1EoomFyZpqYdg2paWytjQULplyWhtv...   \n",
       "13  ++tNFD97NnjhNLDzZqgyZ6ib78s1wFUYAunkGRknnIbBeU...   \n",
       "\n",
       "                                              actions  \\\n",
       "0   ['viewmainpage', 'viewmainpage', 'viewmainpage...   \n",
       "6   ['viewproduct', 'viewproduct', 'add', 'vieweco...   \n",
       "8   ['viewmainpage', 'selectcontent', 'selectconte...   \n",
       "10  ['viewmainpage', 'viewecoupondetail', 'viewmai...   \n",
       "13  ['viewmainpage', 'selectcontent', 'viewcustomp...   \n",
       "\n",
       "                       start_time                       end_time  \\\n",
       "0   2024-02-25 23:58:02.980000000  2024-02-29 12:12:44.464000000   \n",
       "6   2024-02-21 13:40:43.792999936  2024-02-21 14:02:08.567000064   \n",
       "8   2024-02-29 08:48:08.900000000  2024-02-29 09:12:49.097999872   \n",
       "10  2024-02-07 19:18:42.263000064  2024-02-07 19:27:22.728000000   \n",
       "13  2024-02-12 22:09:47.228999936  2024-02-12 22:26:09.052000000   \n",
       "\n",
       "            time_to_checkout               trade_order  hesitate  \\\n",
       "0     3 days 12:14:41.484000  jEbPPtt12/ykfvhRHiieDQ==         0   \n",
       "6  0 days 00:21:24.774000128  OCtlXMHRpQgF7R7Qgr+pQw==         0   \n",
       "8  0 days 00:24:40.197999872  7T7uuoWUdmQKcv6NGTnBYA==         0   \n",
       "10 0 days 00:08:40.464999936  U6kl6NYaJKWE/T4StQipjw==         0   \n",
       "13 0 days 00:16:21.823000064  0b2JZZhDpi0WRM0Z2BgLrg==         0   \n",
       "\n",
       "    time_to_checkout_hours  \n",
       "0                84.244857  \n",
       "6                 0.356882  \n",
       "8                 0.411166  \n",
       "10                0.144574  \n",
       "13                0.272729  "
      ]
     },
     "execution_count": 89,
     "metadata": {},
     "output_type": "execute_result"
    }
   ],
   "source": [
    "import datetime\n",
    "import numpy as np\n",
    "df = pd.read_csv(\"C:/Users/Bryce Chiu/Desktop/大數據與商業分析/final report/dataset/dataset202402.csv\", index_col=0)\n",
    "df.head()\n",
    "df[\"time_to_checkout\"] = df[\"time_to_checkout\"].map(\n",
    "    lambda x: pd.to_timedelta(x))\n",
    "df[\"time_to_checkout_hours\"] = df[\"time_to_checkout\"].map(\n",
    "    lambda x: x/np.timedelta64(1, 'h'))\n",
    "df.head()"
   ]
  },
  {
   "cell_type": "code",
   "execution_count": 90,
   "metadata": {},
   "outputs": [
    {
     "data": {
      "text/plain": [
       "<matplotlib.legend.Legend at 0x252a3716070>"
      ]
     },
     "execution_count": 90,
     "metadata": {},
     "output_type": "execute_result"
    },
    {
     "data": {
      "image/png": "[encoded data removed]",
      "text/plain": [
       "<Figure size 432x288 with 1 Axes>"
      ]
     },
     "metadata": {
      "needs_background": "light"
     },
     "output_type": "display_data"
    }
   ],
   "source": [
    "df.hist(column=\"time_to_checkout_hours\", bins=100, log=True)\n",
    "plt.xlabel(\"hour(s)\")\n",
    "plt.title(\"Checkout time histogram in logarithmic scale\")\n",
    "plt.axvline(x=df[\"time_to_checkout_hours\"].mean(),label=\"mean\" , color=\"orange\")\n",
    "plt.axvline(x=df[\"time_to_checkout_hours\"].mean()+df[\"time_to_checkout_hours\"].std(),label=\"hesitate threshold\" , color=\"red\")\n",
    "plt.axvline(x=df[\"time_to_checkout_hours\"].quantile(0.1), label=\"top 10%\", color=\"green\")\n",
    "plt.legend()"
   ]
  },
  {
   "cell_type": "code",
   "execution_count": 80,
   "metadata": {},
   "outputs": [
    {
     "name": "stdout",
     "output_type": "stream",
     "text": [
      "Action count: 17\n"
     ]
    }
   ],
   "source": [
    "actions = [\"register\", \"viewmainpage\", \"viewcategory\", \"viewactivity\", \"viewcustompage\", \"viewalbumdetail\", \"viewvideodetail\", \"viewarticledetail\",\n",
    "           \"viewecoupondetail\", \"viewpromotiondetail\", \"viewcoupondetail\", \"viewproduct\", \"search\", \"add\", \"checkout\", \"purchase\", \"selectcontent\"]\n",
    "actions = {k: v for v, k in enumerate(actions)}\n",
    "n_actions = len(actions)\n",
    "print(\"Action count:\", n_actions)"
   ]
  },
  {
   "cell_type": "code",
   "execution_count": 6,
   "metadata": {},
   "outputs": [],
   "source": [
    "import torch\n",
    "\n",
    "\n",
    "def action_to_index(action):\n",
    "    return actions[action]\n",
    "\n",
    "\n",
    "def sequence_to_tensor(sequence):\n",
    "    tensor = torch.zeros(len(sequence), 1, n_actions)\n",
    "    for index, action in enumerate(sequence):\n",
    "        tensor[index][0][action_to_index(action)] = 1\n",
    "    return tensor\n",
    "\n",
    "\n",
    "def label_to_tensor(label: int):\n",
    "    tensor = torch.nn.functional.one_hot(\n",
    "        torch.tensor(label), 2)  # binary classification\n",
    "    return tensor"
   ]
  },
  {
   "cell_type": "code",
   "execution_count": 7,
   "metadata": {},
   "outputs": [],
   "source": [
    "import torch.nn as nn\n",
    "import torch.nn.functional as F\n",
    "\n",
    "\n",
    "class LSTMClassifier(nn.Module):\n",
    "    def __init__(self, input_size, hidden_size, num_layers, output_size):\n",
    "        super(LSTMClassifier, self).__init__()\n",
    "        self.hidden_size = hidden_size\n",
    "        self.num_layers = num_layers\n",
    "        self.lstm = nn.LSTM(input_size, hidden_size, num_layers, batch_first=True)\n",
    "        self.fc = nn.Linear(hidden_size, output_size)\n",
    "\n",
    "    def forward(self, x):\n",
    "        h0 = torch.zeros(self.num_layers, x.size(0), self.hidden_size).to(x.device)\n",
    "        c0 = torch.zeros(self.num_layers, x.size(0), self.hidden_size).to(x.device)\n",
    "        out, _ = self.lstm(x, (h0, c0))\n",
    "        out = self.fc(out[:, -1, :])\n",
    "        return out"
   ]
  },
  {
   "cell_type": "code",
   "execution_count": 91,
   "metadata": {},
   "outputs": [
    {
     "name": "stdout",
     "output_type": "stream",
     "text": [
      "normal: 35443 hesitate: 6916\n"
     ]
    },
    {
     "data": {
      "image/png": "[encoded data removed]",
      "text/plain": [
       "<Figure size 432x288 with 1 Axes>"
      ]
     },
     "metadata": {
      "needs_background": "light"
     },
     "output_type": "display_data"
    },
    {
     "data": {
      "image/png": "[encoded data removed]",
      "text/plain": [
       "<Figure size 432x288 with 1 Axes>"
      ]
     },
     "metadata": {
      "needs_background": "light"
     },
     "output_type": "display_data"
    }
   ],
   "source": [
    "import random\n",
    "import ast\n",
    "random.seed(42)\n",
    "\n",
    "df[\"actions_length\"] = df[\"actions\"].apply(lambda x: len(ast.literal_eval(x)))\n",
    "\n",
    "normal_df = df[df[\"hesitate\"] == 0]\n",
    "hesitate_df = df[df[\"hesitate\"] == 1]\n",
    "\n",
    "print(\"normal:\", len(normal_df.index), \"hesitate:\", len(hesitate_df.index))\n",
    "\n",
    "\n",
    "normal_df.hist(column=[\"actions_length\"],  bins=100, log=True)\n",
    "plt.title(\"normal\")\n",
    "hesitate_df.hist(column=[\"actions_length\"], bins=100, log=False)\n",
    "plt.title(\"hesitate\")\n",
    "\n",
    "train_df = pd.concat([normal_df[:5000], hesitate_df[:5000]])\n",
    "train_df = train_df.sample(frac=1, random_state=42).reset_index(drop=True)\n",
    "\n",
    "test_df = pd.concat([normal_df[5000:5100], hesitate_df[5000:5100]])"
   ]
  },
  {
   "cell_type": "code",
   "execution_count": 9,
   "metadata": {},
   "outputs": [
    {
     "name": "stdout",
     "output_type": "stream",
     "text": [
      "True\n"
     ]
    }
   ],
   "source": [
    "print(torch.cuda.is_available())  # Should return True"
   ]
  },
  {
   "cell_type": "code",
   "execution_count": 92,
   "metadata": {},
   "outputs": [
    {
     "name": "stderr",
     "output_type": "stream",
     "text": [
      "Training on epoch 1: 100%|██████████████████████████████████████████████████████| 10000/10000 [01:06<00:00, 150.13it/s]\n"
     ]
    },
    {
     "name": "stdout",
     "output_type": "stream",
     "text": [
      "Epoch [1/10], Loss: 0.6303070783615112\n"
     ]
    },
    {
     "name": "stderr",
     "output_type": "stream",
     "text": [
      "Evaluating model performace: 100%|██████████████████████████████████████████████████| 200/200 [00:00<00:00, 291.65it/s]\n"
     ]
    },
    {
     "name": "stdout",
     "output_type": "stream",
     "text": [
      "Accuracy:0.50\n"
     ]
    },
    {
     "name": "stderr",
     "output_type": "stream",
     "text": [
      "Training on epoch 2: 100%|██████████████████████████████████████████████████████| 10000/10000 [01:14<00:00, 133.88it/s]\n"
     ]
    },
    {
     "name": "stdout",
     "output_type": "stream",
     "text": [
      "Epoch [2/10], Loss: 0.5566504597663879\n"
     ]
    },
    {
     "name": "stderr",
     "output_type": "stream",
     "text": [
      "Evaluating model performace: 100%|██████████████████████████████████████████████████| 200/200 [00:00<00:00, 321.79it/s]\n"
     ]
    },
    {
     "name": "stdout",
     "output_type": "stream",
     "text": [
      "Accuracy:0.64\n"
     ]
    },
    {
     "name": "stderr",
     "output_type": "stream",
     "text": [
      "Training on epoch 3: 100%|██████████████████████████████████████████████████████| 10000/10000 [01:27<00:00, 114.78it/s]\n"
     ]
    },
    {
     "name": "stdout",
     "output_type": "stream",
     "text": [
      "Epoch [3/10], Loss: 0.45174816250801086\n"
     ]
    },
    {
     "name": "stderr",
     "output_type": "stream",
     "text": [
      "Evaluating model performace: 100%|██████████████████████████████████████████████████| 200/200 [00:00<00:00, 242.49it/s]\n"
     ]
    },
    {
     "name": "stdout",
     "output_type": "stream",
     "text": [
      "Accuracy:0.60\n"
     ]
    },
    {
     "name": "stderr",
     "output_type": "stream",
     "text": [
      "Training on epoch 4: 100%|██████████████████████████████████████████████████████| 10000/10000 [01:12<00:00, 138.50it/s]\n"
     ]
    },
    {
     "name": "stdout",
     "output_type": "stream",
     "text": [
      "Epoch [4/10], Loss: 0.37758007645606995\n"
     ]
    },
    {
     "name": "stderr",
     "output_type": "stream",
     "text": [
      "Evaluating model performace: 100%|██████████████████████████████████████████████████| 200/200 [00:00<00:00, 272.04it/s]\n"
     ]
    },
    {
     "name": "stdout",
     "output_type": "stream",
     "text": [
      "Accuracy:0.67\n"
     ]
    },
    {
     "name": "stderr",
     "output_type": "stream",
     "text": [
      "Training on epoch 5: 100%|██████████████████████████████████████████████████████| 10000/10000 [01:12<00:00, 138.10it/s]\n"
     ]
    },
    {
     "name": "stdout",
     "output_type": "stream",
     "text": [
      "Epoch [5/10], Loss: 0.19378575682640076\n"
     ]
    },
    {
     "name": "stderr",
     "output_type": "stream",
     "text": [
      "Evaluating model performace: 100%|██████████████████████████████████████████████████| 200/200 [00:00<00:00, 317.86it/s]\n"
     ]
    },
    {
     "name": "stdout",
     "output_type": "stream",
     "text": [
      "Accuracy:0.64\n"
     ]
    },
    {
     "name": "stderr",
     "output_type": "stream",
     "text": [
      "Training on epoch 6: 100%|██████████████████████████████████████████████████████| 10000/10000 [01:13<00:00, 135.71it/s]\n"
     ]
    },
    {
     "name": "stdout",
     "output_type": "stream",
     "text": [
      "Epoch [6/10], Loss: 0.23374031484127045\n"
     ]
    },
    {
     "name": "stderr",
     "output_type": "stream",
     "text": [
      "Evaluating model performace: 100%|██████████████████████████████████████████████████| 200/200 [00:00<00:00, 323.16it/s]\n"
     ]
    },
    {
     "name": "stdout",
     "output_type": "stream",
     "text": [
      "Accuracy:0.71\n"
     ]
    },
    {
     "name": "stderr",
     "output_type": "stream",
     "text": [
      "Training on epoch 7: 100%|██████████████████████████████████████████████████████| 10000/10000 [01:20<00:00, 123.84it/s]\n"
     ]
    },
    {
     "name": "stdout",
     "output_type": "stream",
     "text": [
      "Epoch [7/10], Loss: 0.13315345346927643\n"
     ]
    },
    {
     "name": "stderr",
     "output_type": "stream",
     "text": [
      "Evaluating model performace: 100%|██████████████████████████████████████████████████| 200/200 [00:01<00:00, 185.48it/s]\n"
     ]
    },
    {
     "name": "stdout",
     "output_type": "stream",
     "text": [
      "Accuracy:0.74\n"
     ]
    },
    {
     "name": "stderr",
     "output_type": "stream",
     "text": [
      "Training on epoch 8: 100%|██████████████████████████████████████████████████████| 10000/10000 [01:28<00:00, 112.71it/s]\n"
     ]
    },
    {
     "name": "stdout",
     "output_type": "stream",
     "text": [
      "Epoch [8/10], Loss: 0.09585267305374146\n"
     ]
    },
    {
     "name": "stderr",
     "output_type": "stream",
     "text": [
      "Evaluating model performace: 100%|██████████████████████████████████████████████████| 200/200 [00:00<00:00, 233.09it/s]\n"
     ]
    },
    {
     "name": "stdout",
     "output_type": "stream",
     "text": [
      "Accuracy:0.78\n"
     ]
    },
    {
     "name": "stderr",
     "output_type": "stream",
     "text": [
      "Training on epoch 9: 100%|██████████████████████████████████████████████████████| 10000/10000 [01:32<00:00, 107.72it/s]\n"
     ]
    },
    {
     "name": "stdout",
     "output_type": "stream",
     "text": [
      "Epoch [9/10], Loss: 0.16664867103099823\n"
     ]
    },
    {
     "name": "stderr",
     "output_type": "stream",
     "text": [
      "Evaluating model performace: 100%|██████████████████████████████████████████████████| 200/200 [00:00<00:00, 264.05it/s]\n"
     ]
    },
    {
     "name": "stdout",
     "output_type": "stream",
     "text": [
      "Accuracy:0.73\n"
     ]
    },
    {
     "name": "stderr",
     "output_type": "stream",
     "text": [
      "Training on epoch 10: 100%|█████████████████████████████████████████████████████| 10000/10000 [01:17<00:00, 129.52it/s]\n"
     ]
    },
    {
     "name": "stdout",
     "output_type": "stream",
     "text": [
      "Epoch [10/10], Loss: 0.1296669840812683\n"
     ]
    },
    {
     "name": "stderr",
     "output_type": "stream",
     "text": [
      "Evaluating model performace: 100%|██████████████████████████████████████████████████| 200/200 [00:00<00:00, 317.10it/s]"
     ]
    },
    {
     "name": "stdout",
     "output_type": "stream",
     "text": [
      "Accuracy:0.76\n"
     ]
    },
    {
     "name": "stderr",
     "output_type": "stream",
     "text": [
      "\n"
     ]
    }
   ],
   "source": [
    "from tqdm import tqdm\n",
    "input_size = len(actions)\n",
    "hidden_size = 64\n",
    "num_layers = 4\n",
    "output_size = 2\n",
    "model = LSTMClassifier(input_size, hidden_size,\n",
    "                       num_layers, output_size).to(\"cuda\")\n",
    "\n",
    "criterion = nn.CrossEntropyLoss()\n",
    "optimizer = torch.optim.Adam(model.parameters(), lr=0.001)\n",
    "\n",
    "num_epochs = 10\n",
    "for epoch in range(num_epochs):\n",
    "    for _, sample in tqdm(train_df.iterrows(), total=len(train_df.index), desc=f\"Training on epoch {epoch+1}\"):\n",
    "        optimizer.zero_grad()\n",
    "        sequence_tensor = sequence_to_tensor(\n",
    "            ast.literal_eval(sample[\"actions\"]))\n",
    "        sequence_tensor = sequence_tensor.to(\"cuda\")\n",
    "        if (len(sequence_tensor) == 0):\n",
    "            continue\n",
    "        sequence_tensor = torch.reshape(sequence_tensor, (1, -1, input_size))\n",
    "        outputs = model(sequence_tensor)\n",
    "        label_tensor = label_to_tensor(sample[\"hesitate\"])\n",
    "        label_tensor = label_tensor.to(\n",
    "            \"cuda\", dtype=torch.float64).reshape((1, 2))\n",
    "        loss = criterion(outputs, label_tensor)\n",
    "        loss.backward()\n",
    "        optimizer.step()\n",
    "    print(f'Epoch [{epoch+1}/{num_epochs}], Loss: {loss.item()}')\n",
    "    total = len(test_df.index)\n",
    "    correct = 0\n",
    "    for _, row in tqdm(test_df.iterrows(), total=len(test_df.index),  desc=\"Evaluating model performace\"):\n",
    "        sequence_tensor = sequence_to_tensor(\n",
    "            ast.literal_eval(row[\"actions\"]))\n",
    "        if (len(sequence_tensor) == 0):\n",
    "            total -= 1\n",
    "            continue\n",
    "        sequence_tensor = sequence_tensor.to(\n",
    "            \"cuda\").reshape((1, -1, input_size))\n",
    "\n",
    "        with torch.no_grad():\n",
    "            predicted_tensor = model(sequence_tensor)\n",
    "        predicted = predicted_tensor.argmax()\n",
    "        if predicted == row[\"hesitate\"]:\n",
    "            correct += 1\n",
    "    print(f\"Accuracy:{correct / total:.2f}\",)"
   ]
  },
  {
   "cell_type": "code",
   "execution_count": 142,
   "metadata": {
    "scrolled": true
   },
   "outputs": [],
   "source": [
    "def predict(row, model):\n",
    "    sequence_tensor = sequence_to_tensor(\n",
    "        ast.literal_eval(row[\"actions\"]))\n",
    "    if (len(sequence_tensor) == 0):\n",
    "        print(\"warning: action sequence length == 0\")\n",
    "        return 0\n",
    "    sequence_tensor = sequence_tensor.to(\n",
    "        \"cuda\").reshape((1, -1, input_size))\n",
    "\n",
    "    with torch.no_grad():\n",
    "        predicted_tensor = model(sequence_tensor)\n",
    "    predicted = predicted_tensor.argmax()\n",
    "    #print(\"user actions:\", row[\"actions\"],\n",
    "     #     \"predicted behavior:\", \"hesitate\" if predicted == 1 else \"normal\")\n",
    "    return predicted.item()\n",
    "\n",
    "for _, row in test_df.sample(n=10).iterrows():\n",
    "    predict(row, model)"
   ]
  },
  {
   "cell_type": "code",
   "execution_count": 76,
   "metadata": {},
   "outputs": [
    {
     "name": "stdout",
     "output_type": "stream",
     "text": [
      "LSTM Model's state_dict:\n",
      "lstm.weight_ih_l0 \t torch.Size([256, 17])\n",
      "lstm.weight_hh_l0 \t torch.Size([256, 64])\n",
      "lstm.bias_ih_l0 \t torch.Size([256])\n",
      "lstm.bias_hh_l0 \t torch.Size([256])\n",
      "lstm.weight_ih_l1 \t torch.Size([256, 64])\n",
      "lstm.weight_hh_l1 \t torch.Size([256, 64])\n",
      "lstm.bias_ih_l1 \t torch.Size([256])\n",
      "lstm.bias_hh_l1 \t torch.Size([256])\n",
      "lstm.weight_ih_l2 \t torch.Size([256, 64])\n",
      "lstm.weight_hh_l2 \t torch.Size([256, 64])\n",
      "lstm.bias_ih_l2 \t torch.Size([256])\n",
      "lstm.bias_hh_l2 \t torch.Size([256])\n",
      "lstm.weight_ih_l3 \t torch.Size([256, 64])\n",
      "lstm.weight_hh_l3 \t torch.Size([256, 64])\n",
      "lstm.bias_ih_l3 \t torch.Size([256])\n",
      "lstm.bias_hh_l3 \t torch.Size([256])\n",
      "fc.weight \t torch.Size([2, 64])\n",
      "fc.bias \t torch.Size([2])\n"
     ]
    }
   ],
   "source": [
    "print(\"LSTM Model's state_dict:\")\n",
    "for param_tensor in model.state_dict():\n",
    "    print(param_tensor, \"\\t\", model.state_dict()[param_tensor].size())"
   ]
  },
  {
   "cell_type": "code",
   "execution_count": 93,
   "metadata": {},
   "outputs": [],
   "source": [
    "torch.save(model.state_dict(), \"./model2402.bin\")"
   ]
  },
  {
   "cell_type": "code",
   "execution_count": 186,
   "metadata": {},
   "outputs": [],
   "source": [
    "def predicted_df(df):\n",
    "    temp = []\n",
    "    for _, row in df.iterrows():\n",
    "        prediction = predict(row, loaded_model)\n",
    "        temp.append(int(prediction))\n",
    "    temp = np.array(temp)\n",
    "    df['prediction'] = temp\n",
    "    return df"
   ]
  },
  {
   "cell_type": "code",
   "execution_count": 183,
   "metadata": {},
   "outputs": [],
   "source": [
    "from sklearn.metrics import confusion_matrix\n",
    "import seaborn as sns\n",
    "\n",
    "def plot_confusion_matrix(df, file_path):\n",
    "    cm = confusion_matrix(df['hesitate'], df['prediction'])\n",
    "\n",
    "    # 将混淆矩阵转换为DataFrame以便于展示\n",
    "    cm_df = pd.DataFrame(cm, index=['Actual 0', 'Actual 1'], columns=['Predicted 0', 'Predicted 1'])\n",
    "    \n",
    "    plt.figure(figsize=(8, 6))\n",
    "    sns.heatmap(cm_df, annot=True, fmt='d', cmap='Blues')\n",
    "    plt.gca().xaxis.set_ticks_position('top')\n",
    "    plt.gca().xaxis.set_label_position('top')\n",
    "    plt.xlabel('Predicted')\n",
    "    plt.ylabel('Actual')\n",
    "    plt.title('Confusion Matrix')\n",
    "    plt.savefig(file_path)\n",
    "    plt.show()\n",
    "    return"
   ]
  },
  {
   "cell_type": "code",
   "execution_count": 216,
   "metadata": {},
   "outputs": [
    {
     "data": {
      "text/plain": [
       "LSTMClassifier(\n",
       "  (lstm): LSTM(17, 64, num_layers=4, batch_first=True)\n",
       "  (fc): Linear(in_features=64, out_features=2, bias=True)\n",
       ")"
      ]
     },
     "execution_count": 216,
     "metadata": {},
     "output_type": "execute_result"
    }
   ],
   "source": [
    "# load model\n",
    "loaded_model = LSTMClassifier(input_size, hidden_size,\n",
    "                              num_layers, output_size).to(\"cuda\")\n",
    "loaded_model.load_state_dict(torch.load(\"./model2310.bin\"))\n",
    "loaded_model.eval()"
   ]
  },
  {
   "cell_type": "code",
   "execution_count": null,
   "metadata": {},
   "outputs": [],
   "source": [
    "valid_data = pd.read_csv(\"C:/Users/Bryce Chiu/Desktop/大數據與商業分析/final report/dataset/dataset202311.csv\", index_col=0)\n",
    "valid_data = predicted_df(valid_data)\n",
    "file_path = 'C:/Users/Bryce Chiu/Desktop/大數據與商業分析/final report/figure/confusion_matrix' + '2311.png'\n",
    "plot_confusion_matrix(valid_data, file_path)\n",
    "valid_data.to_csv(\"C:/Users/Bryce Chiu/Desktop/大數據與商業分析/final report/dataset/predicted_dataset202311.csv\")"
   ]
  },
  {
   "cell_type": "code",
   "execution_count": 218,
   "metadata": {},
   "outputs": [
    {
     "name": "stdout",
     "output_type": "stream",
     "text": [
      "2311 data prediction result:\n",
      "total number: 35749\n",
      "Accuracy: 0.7356569414529077\n",
      "F1 score: 0.7707771753272088\n",
      "Precision: 0.8672425410292327\n",
      "Recall: 0.7356569414529077\n"
     ]
    }
   ],
   "source": [
    "from sklearn.metrics import accuracy_score, balanced_accuracy_score, confusion_matrix, f1_score, precision_score, recall_score\n",
    "\n",
    "accuracy = accuracy_score(valid_data['hesitate'], valid_data['prediction'])\n",
    "f1 = f1_score(valid_data['hesitate'], valid_data['prediction'], average='weighted')\n",
    "precision = precision_score(valid_data['hesitate'], valid_data['prediction'], average='weighted')\n",
    "recall = recall_score(valid_data['hesitate'], valid_data['prediction'], average='weighted')\n",
    "\n",
    "print('2311 data prediction result:')\n",
    "print(f\"total number: {len(valid_data['hesitate'])}\")\n",
    "print(f\"Accuracy: {accuracy}\")\n",
    "print(f\"F1 score: {f1}\")\n",
    "print(f\"Precision: {precision}\")\n",
    "print(f\"Recall: {recall}\")\n"
   ]
  }
 ],
 "metadata": {
  "kernelspec": {
   "display_name": "Python 3 (ipykernel)",
   "language": "python",
   "name": "python3"
  },
  "language_info": {
   "codemirror_mode": {
    "name": "ipython",
    "version": 3
   },
   "file_extension": ".py",
   "mimetype": "text/x-python",
   "name": "python",
   "nbconvert_exporter": "python",
   "pygments_lexer": "ipython3",
   "version": "3.9.12"
  }
 },
 "nbformat": 4,
 "nbformat_minor": 4
}
